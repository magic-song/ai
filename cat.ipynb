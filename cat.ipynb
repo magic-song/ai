{
  "cells": [
    {
      "cell_type": "markdown",
      "metadata": {
        "id": "view-in-github",
        "colab_type": "text"
      },
      "source": [
        "<a href=\"https://colab.research.google.com/github/magic-song/ai/blob/main/cat.ipynb\" target=\"_parent\"><img src=\"https://colab.research.google.com/assets/colab-badge.svg\" alt=\"Open In Colab\"/></a>"
      ]
    },
    {
      "cell_type": "code",
      "execution_count": 1,
      "metadata": {
        "id": "vKusFfA_305M"
      },
      "outputs": [],
      "source": [
        "%matplotlib inline\n",
        "\n",
        "import numpy as np\n",
        "import pandas as pd\n",
        "import matplotlib.pyplot as plt\n",
        "import os"
      ]
    },
    {
      "cell_type": "code",
      "execution_count": 2,
      "metadata": {
        "id": "E-Y52sS07i2k"
      },
      "outputs": [],
      "source": [
        "from tensorflow.keras.preprocessing.image import load_img, img_to_array\n",
        "from tensorflow.keras.applications import ResNet50V2\n",
        "from tensorflow.keras.applications.resnet_v2 import preprocess_input\n",
        "from tensorflow.keras.models import Sequential\n",
        "from tensorflow.keras.layers import Dense"
      ]
    },
    {
      "cell_type": "code",
      "execution_count": 3,
      "metadata": {
        "id": "4ylCdRM-7nix"
      },
      "outputs": [],
      "source": [
        "base_dir = '/content/drive/MyDrive/cat_breeds'"
      ]
    },
    {
      "cell_type": "code",
      "execution_count": 4,
      "metadata": {
        "id": "DkFBZwEu7qnh"
      },
      "outputs": [],
      "source": [
        "aby_dir = base_dir + '/Abyssinian'\n",
        "ab_dir = base_dir + '/American Bobtail'\n",
        "ams_dir = base_dir + '/American Shorthair'\n",
        "be_dir = base_dir + '/Bengal'\n",
        "bi_dir = base_dir + '/Birman'\n",
        "bo_dir = base_dir + '/Bombay'\n",
        "br_dir = base_dir + '/British Shorthair'\n",
        "eg_dir = base_dir + '/Egyptian Mau'\n",
        "ma_dir = base_dir + '/Maine Coon'\n",
        "pe_dir = base_dir + '/Persian'\n",
        "ra_dir = base_dir + '/Ragdoll'\n",
        "ru_dir = base_dir + '/Russian Blue'"
      ]
    },
    {
      "cell_type": "code",
      "execution_count": 5,
      "metadata": {
        "id": "GduU_wpD7tNH"
      },
      "outputs": [],
      "source": [
        "aby_fnames = os.listdir(aby_dir)\n",
        "ab_fnames = os.listdir(ab_dir)\n",
        "ams_fnames = os.listdir(ams_dir)\n",
        "be_fnames = os.listdir(be_dir)\n",
        "bi_fnames = os.listdir(bi_dir)\n",
        "bo_fnames = os.listdir(bo_dir)\n",
        "br_fnames = os.listdir(br_dir)\n",
        "eg_fnames = os.listdir(eg_dir)\n",
        "ma_fnames = os.listdir(ma_dir)\n",
        "pe_fnames = os.listdir(pe_dir)\n",
        "ra_fnames = os.listdir(ra_dir)\n",
        "ru_fnames = os.listdir(ru_dir)"
      ]
    },
    {
      "cell_type": "code",
      "execution_count": null,
      "metadata": {
        "id": "0taD4oCC7wfS"
      },
      "outputs": [],
      "source": [
        "data = []\n",
        "target = []\n",
        "\n",
        "for aby in aby_fnames:\n",
        "    img = load_img(aby_dir + '/' + aby, target_size = (224,224))\n",
        "    x = np.array(img)\n",
        "    data.append(x)\n",
        "    target.append(0)\n",
        "for ab in ab_fnames:\n",
        "    img = load_img(ab_dir + '/' + ab, target_size = (224,224))\n",
        "    x = np.array(img)\n",
        "    data.append(x)\n",
        "    target.append(1)\n",
        "for ams in ams_fnames:\n",
        "    img = load_img(ams_dir + '/' + ams, target_size = (224,224))\n",
        "    x = np.array(img)\n",
        "    data.append(x)\n",
        "    target.append(2)\n",
        "for be in be_fnames:\n",
        "    img = load_img(be_dir + '/' + be, target_size = (224,224))\n",
        "    x = np.array(img)\n",
        "    data.append(x)\n",
        "    target.append(3)\n",
        "for bi in bi_fnames:\n",
        "    img = load_img(bi_dir + '/' + bi, target_size = (224,224))\n",
        "    x = np.array(img)\n",
        "    data.append(x)\n",
        "    target.append(4)\n",
        "for bo in bo_fnames:\n",
        "    img = load_img(bo_dir + '/' + bo, target_size = (224,224))\n",
        "    x = np.array(img)\n",
        "    data.append(x)\n",
        "    target.append(5)\n",
        "for br in br_fnames:\n",
        "    img = load_img(br_dir + '/' + br, target_size = (224,224))\n",
        "    x = np.array(img)\n",
        "    data.append(x)\n",
        "    target.append(6)\n",
        "for eg in eg_fnames:\n",
        "    img = load_img(eg_dir + '/' + eg, target_size = (224,224))\n",
        "    x = np.array(img)\n",
        "    data.append(x)\n",
        "    target.append(7)\n",
        "for ma in ma_fnames:\n",
        "    img = load_img(ma_dir + '/' + ma, target_size = (224,224))\n",
        "    x = np.array(img)\n",
        "    data.append(x)\n",
        "    target.append(8)\n",
        "for pe in pe_fnames:\n",
        "    img = load_img(pe_dir + '/' + pe, target_size = (224,224))\n",
        "    x = np.array(img)\n",
        "    data.append(x)\n",
        "    target.append(9)\n",
        "for ra in ra_fnames:\n",
        "    img = load_img(ra_dir + '/' + ra, target_size = (224,224))\n",
        "    x = np.array(img)\n",
        "    data.append(x)\n",
        "    target.append(10)\n",
        "for ru in ru_fnames:\n",
        "    img = load_img(ru_dir + '/' + ru, target_size = (224,224))\n",
        "    x = np.array(img)\n",
        "    data.append(x)\n",
        "    target.append(11)"
      ]
    },
    {
      "cell_type": "code",
      "execution_count": null,
      "metadata": {
        "id": "gHKeTlLn7y68"
      },
      "outputs": [],
      "source": [
        "data = np.array(data)\n",
        "target = np.array(target)"
      ]
    },
    {
      "cell_type": "code",
      "execution_count": null,
      "metadata": {
        "id": "XlvXX4k470XK"
      },
      "outputs": [],
      "source": [
        "data.shape"
      ]
    },
    {
      "cell_type": "code",
      "execution_count": null,
      "metadata": {
        "id": "69Ps6DK17144"
      },
      "outputs": [],
      "source": [
        "target.shape"
      ]
    },
    {
      "cell_type": "code",
      "execution_count": null,
      "metadata": {
        "id": "dZ8yDpmc73IK"
      },
      "outputs": [],
      "source": [
        "data = preprocess_input(data)"
      ]
    },
    {
      "cell_type": "code",
      "execution_count": null,
      "metadata": {
        "id": "Z0OD7P-P74bT"
      },
      "outputs": [],
      "source": [
        "from sklearn.model_selection import train_test_split"
      ]
    },
    {
      "cell_type": "code",
      "execution_count": null,
      "metadata": {
        "id": "xGGFm6Zt750E"
      },
      "outputs": [],
      "source": [
        "x_train, x_test, y_train, y_test = train_test_split(data, target,test_size=0.2,random_state=0)"
      ]
    },
    {
      "cell_type": "code",
      "execution_count": null,
      "metadata": {
        "id": "vdWYVE5h77HG"
      },
      "outputs": [],
      "source": [
        "resnet = ResNet50V2(include_top=False, pooling=\"avg\")"
      ]
    },
    {
      "cell_type": "code",
      "execution_count": null,
      "metadata": {
        "id": "LQ2JsnUW78Pt"
      },
      "outputs": [],
      "source": [
        "resnet.trainable = False"
      ]
    },
    {
      "cell_type": "code",
      "execution_count": null,
      "metadata": {
        "id": "S2EnMF4o8ArB"
      },
      "outputs": [],
      "source": [
        "model = Sequential()"
      ]
    },
    {
      "cell_type": "code",
      "execution_count": null,
      "metadata": {
        "id": "npZpCp0r8Cdn"
      },
      "outputs": [],
      "source": [
        "model.add(resnet)"
      ]
    },
    {
      "cell_type": "code",
      "execution_count": null,
      "metadata": {
        "id": "aW3KdqA28D9w"
      },
      "outputs": [],
      "source": [
        "model.add(Dense(15, activation='softmax'))"
      ]
    },
    {
      "cell_type": "code",
      "execution_count": null,
      "metadata": {
        "id": "mjBE43Dc8Fn8"
      },
      "outputs": [],
      "source": [
        "model.compile(loss='sparse_categorical_crossentropy', optimizer='adam', metrics=['accuracy'])"
      ]
    },
    {
      "cell_type": "code",
      "execution_count": null,
      "metadata": {
        "id": "K2jo6h1B8Kmi"
      },
      "outputs": [],
      "source": [
        "model.summary()"
      ]
    },
    {
      "cell_type": "code",
      "execution_count": null,
      "metadata": {
        "id": "rmdMe4tO8NpS"
      },
      "outputs": [],
      "source": [
        "model.fit(x_train, y_train, epochs=3)"
      ]
    },
    {
      "cell_type": "code",
      "execution_count": null,
      "metadata": {
        "id": "GL2Ieco18Q7_"
      },
      "outputs": [],
      "source": [
        "loss, acc = model.evaluate(x_test, y_test)\n",
        "print(f\"測試資料的 loss 為: {loss:.4f}\")\n",
        "print(f\"測試資料的正確率為: {acc*100:.2f}%\")"
      ]
    },
    {
      "cell_type": "code",
      "execution_count": null,
      "metadata": {
        "id": "Tf_3ukbW8SZA"
      },
      "outputs": [],
      "source": [
        "!pip install gradio"
      ]
    },
    {
      "cell_type": "code",
      "execution_count": null,
      "metadata": {
        "id": "RvFmky4Q8Tmv"
      },
      "outputs": [],
      "source": [
        "import gradio as gr"
      ]
    },
    {
      "cell_type": "code",
      "execution_count": null,
      "metadata": {
        "id": "JzKwsyYO8U-Q"
      },
      "outputs": [],
      "source": [
        "labels = ['阿比西尼亞貓', '美國短尾貓', '美國短毛貓', '孟加拉貓', '伯曼貓', '孟買貓', '英國短毛貓', '埃及貓', '緬因貓', '波斯貓', '布偶貓', '俄羅斯藍貓']"
      ]
    },
    {
      "cell_type": "code",
      "execution_count": null,
      "metadata": {
        "id": "M1WJ6zPG8WYE"
      },
      "outputs": [],
      "source": [
        "def classify_image(inp):\n",
        "  inp = inp.reshape((-1, 224, 224, 3))\n",
        "  inp = preprocess_input(inp)\n",
        "  p = model.predict(inp).flatten()\n",
        "  max_index = np.argmax(p)\n",
        "  max_label = labels[max_index]\n",
        "  return{(max_label)}"
      ]
    },
    {
      "cell_type": "code",
      "execution_count": null,
      "metadata": {
        "id": "kCT7bO328XrF"
      },
      "outputs": [],
      "source": [
        "image = gr.inputs.Image(shape=(224, 224), label=\"貓的照片\")\n",
        "label = gr.outputs.Label(label=\"AI辨識結果\")"
      ]
    },
    {
      "cell_type": "code",
      "execution_count": null,
      "metadata": {
        "id": "ebYtClrv8Yzy"
      },
      "outputs": [],
      "source": [
        "gr.Interface(fn=classify_image, inputs=image, outputs=\"text\",\n",
        "             title=\"AI 貓辨識機\",\n",
        "             description=\"請輸入一張貓的照片!\"\n",
        "             ).launch(debug=True)"
      ]
    }
  ],
  "metadata": {
    "colab": {
      "provenance": [],
      "gpuType": "T4",
      "mount_file_id": "19MEU80kMzajmlIFPJbq8nk5AnT9VHMyN",
      "authorship_tag": "ABX9TyNSGg2RgN6g6BNiNUYFmjZB",
      "include_colab_link": true
    },
    "kernelspec": {
      "display_name": "Python 3",
      "name": "python3"
    },
    "language_info": {
      "name": "python"
    },
    "accelerator": "GPU"
  },
  "nbformat": 4,
  "nbformat_minor": 0
}