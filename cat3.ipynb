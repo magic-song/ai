{
  "nbformat": 4,
  "nbformat_minor": 0,
  "metadata": {
    "colab": {
      "provenance": [],
      "mount_file_id": "1Zw3wmi1nvOSvRG9U1RYqgo9Va2Mh4Z_n",
      "authorship_tag": "ABX9TyNRR+uYocOgsTSYi+eOWunV",
      "include_colab_link": true
    },
    "kernelspec": {
      "name": "python3",
      "display_name": "Python 3"
    },
    "language_info": {
      "name": "python"
    }
  },
  "cells": [
    {
      "cell_type": "markdown",
      "metadata": {
        "id": "view-in-github",
        "colab_type": "text"
      },
      "source": [
        "<a href=\"https://colab.research.google.com/github/magic-song/ai/blob/main/cat3.ipynb\" target=\"_parent\"><img src=\"https://colab.research.google.com/assets/colab-badge.svg\" alt=\"Open In Colab\"/></a>"
      ]
    },
    {
      "cell_type": "code",
      "source": [
        "%matplotlib inline\n",
        "\n",
        "import numpy as np\n",
        "import pandas as pd\n",
        "import matplotlib.pyplot as plt\n",
        "import os"
      ],
      "metadata": {
        "id": "DSrWetwaxjAu"
      },
      "execution_count": 11,
      "outputs": []
    },
    {
      "cell_type": "code",
      "source": [
        "from tensorflow.keras.preprocessing.image import load_img, img_to_array\n",
        "from tensorflow.keras.applications import ResNet50V2\n",
        "from tensorflow.keras.applications.resnet_v2 import preprocess_input\n",
        "from tensorflow.keras.models import Sequential\n",
        "from tensorflow.keras.layers import Dense"
      ],
      "metadata": {
        "id": "zIjI_sdaBKbo"
      },
      "execution_count": 12,
      "outputs": []
    },
    {
      "cell_type": "markdown",
      "source": [
        "解壓縮並儲存dataset"
      ],
      "metadata": {
        "id": "ffSyisewChdB"
      }
    },
    {
      "cell_type": "code",
      "source": [
        "#!unzip '/content/drive/MyDrive/kaggle_api/catbreeds.zip' -d '/content/drive/MyDrive/kaggle_api/catbreeds'"
      ],
      "metadata": {
        "id": "a8sjF-n9_9H_"
      },
      "execution_count": 13,
      "outputs": []
    },
    {
      "cell_type": "code",
      "source": [
        "base_dir = '/content/drive/MyDrive/kaggle_api/catbreeds/Gano-Cat-Breeds-V1_1'"
      ],
      "metadata": {
        "id": "Hz5wdWboBSJJ"
      },
      "execution_count": 14,
      "outputs": []
    },
    {
      "cell_type": "code",
      "source": [
        "aby_dir = base_dir + '/Abyssinian'\n",
        "ab_dir = base_dir + '/American Bobtail'\n",
        "as_dir = base_dir + '/American Shorthair'\n",
        "be_dir = base_dir + '/Bengal'\n",
        "bi_dir = base_dir + '/Birman'\n",
        "bo_dir = base_dir + '/Bombay'\n",
        "br_dir = base_dir + '/British Shorthair'\n",
        "eg_dir = base_dir + '/Egyptian Mau'\n",
        "ma_dir = base_dir + '/Maine Coon'\n",
        "pe_dir = base_dir + '/Persian'\n",
        "ra_dir = base_dir + '/Ragdoll'\n",
        "ru_dir = base_dir + '/Russian Blue'\n",
        "si_dir = base_dir + '/Siamese'\n",
        "sp_dir = base_dir + '/Sphynx'\n",
        "tu_dir = base_dir + '/Tuxedo'"
      ],
      "metadata": {
        "id": "oUv-jA1QCdEB"
      },
      "execution_count": 15,
      "outputs": []
    },
    {
      "cell_type": "code",
      "source": [
        "aby_fnames = os.listdir(aby_dir)\n",
        "ab_fnames = os.listdir(ab_dir)\n",
        "as_fnames = os.listdir(as_dir)\n",
        "be_fnames = os.listdir(be_dir)\n",
        "bi_fnames = os.listdir(bi_dir)\n",
        "bo_fnames = os.listdir(bo_dir)\n",
        "br_fnames = os.listdir(br_dir)\n",
        "eg_fnames = os.listdir(eg_dir)\n",
        "ma_fnames = os.listdir(ma_dir)\n",
        "pe_fnames = os.listdir(pe_dir)\n",
        "ra_fnames = os.listdir(ra_dir)\n",
        "ru_fnames = os.listdir(ru_dir)\n",
        "si_fnames = os.listdir(si_dir)\n",
        "sp_fnames = os.listdir(sp_dir)\n",
        "tu_fnames = os.listdir(tu_dir)"
      ],
      "metadata": {
        "id": "LPk2zPKMFXxt"
      },
      "execution_count": 16,
      "outputs": []
    }
  ]
}